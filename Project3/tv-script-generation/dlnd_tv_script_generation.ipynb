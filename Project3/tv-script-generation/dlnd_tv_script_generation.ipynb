{
 "cells": [
  {
   "cell_type": "markdown",
   "metadata": {
    "deletable": true,
    "editable": true
   },
   "source": [
    "# TV Script Generation\n",
    "In this project, you'll generate your own [Simpsons](https://en.wikipedia.org/wiki/The_Simpsons) TV scripts using RNNs.  You'll be using part of the [Simpsons dataset](https://www.kaggle.com/wcukierski/the-simpsons-by-the-data) of scripts from 27 seasons.  The Neural Network you'll build will generate a new TV script for a scene at [Moe's Tavern](https://simpsonswiki.com/wiki/Moe's_Tavern).\n",
    "## Get the Data\n",
    "The data is already provided for you.  You'll be using a subset of the original dataset.  It consists of only the scenes in Moe's Tavern.  This doesn't include other versions of the tavern, like \"Moe's Cavern\", \"Flaming Moe's\", \"Uncle Moe's Family Feed-Bag\", etc.."
   ]
  },
  {
   "cell_type": "code",
   "execution_count": 1,
   "metadata": {
    "collapsed": false,
    "deletable": true,
    "editable": true
   },
   "outputs": [],
   "source": [
    "\"\"\"\n",
    "DON'T MODIFY ANYTHING IN THIS CELL\n",
    "\"\"\"\n",
    "import helper\n",
    "\n",
    "data_dir = './data/simpsons/moes_tavern_lines.txt'\n",
    "text = helper.load_data(data_dir)\n",
    "# Ignore notice, since we don't use it for analysing the data\n",
    "text = text[81:]"
   ]
  },
  {
   "cell_type": "markdown",
   "metadata": {
    "deletable": true,
    "editable": true
   },
   "source": [
    "## Explore the Data\n",
    "Play around with `view_sentence_range` to view different parts of the data."
   ]
  },
  {
   "cell_type": "code",
   "execution_count": 2,
   "metadata": {
    "collapsed": false,
    "deletable": true,
    "editable": true,
    "scrolled": false
   },
   "outputs": [
    {
     "name": "stdout",
     "output_type": "stream",
     "text": [
      "Dataset Stats\n",
      "Roughly the number of unique words: 11492\n",
      "Number of scenes: 262\n",
      "Average number of sentences in each scene: 15.248091603053435\n",
      "Number of lines: 4257\n",
      "Average number of words in each line: 11.50434578341555\n"
     ]
    },
    {
     "data": {
      "image/png": "[encoded data removed]",
      "text/plain": [
       "<matplotlib.figure.Figure at 0x7fe5b004a828>"
      ]
     },
     "metadata": {},
     "output_type": "display_data"
    },
    {
     "name": "stdout",
     "output_type": "stream",
     "text": [
      "\n",
      "The sentences 100 to 110:\n",
      "Barney_Gumble: Wow, it really works.\n",
      "HARV: (CHUCKLING) I'll be back.\n",
      "Homer_Simpson: Moe, I haven't seen the place this crowded since the government cracked down on you for accepting food stamps. Do you think my drink had something to do with it?\n",
      "Moe_Szyslak: Who can say? It's probably a combination of things.\n",
      "Patron_#1: (TO MOE) Another pitcher of those amazing \"Flaming Moe's\".\n",
      "Patron_#2: Boy, I hate this joint, but I love that drink.\n",
      "Collette: Barkeep, I couldn't help noticing your sign.\n",
      "Moe_Szyslak: The one that says, \"Bartenders Do It 'Til You Barf\"?\n",
      "Collette: No, above that store-bought drollery.\n",
      "Moe_Szyslak: Oh great! Why don't we fill out an application? (READING) I'll need your name, measurements and turn ons..\n"
     ]
    }
   ],
   "source": [
    "view_sentence_range = (100, 110)\n",
    "\n",
    "\"\"\"\n",
    "DON'T MODIFY ANYTHING IN THIS CELL\n",
    "\"\"\"\n",
    "import numpy as np\n",
    "\n",
    "print('Dataset Stats')\n",
    "print('Roughly the number of unique words: {}'.format(len({word: None for word in text.split()})))\n",
    "scenes = text.split('\\n\\n')\n",
    "print('Number of scenes: {}'.format(len(scenes)))\n",
    "sentence_count_scene = [scene.count('\\n') for scene in scenes]\n",
    "print('Average number of sentences in each scene: {}'.format(np.average(sentence_count_scene)))\n",
    "\n",
    "sentences = [sentence for scene in scenes for sentence in scene.split('\\n')]\n",
    "print('Number of lines: {}'.format(len(sentences)))\n",
    "word_count_sentence = [len(sentence.split()) for sentence in sentences]\n",
    "print('Average number of words in each line: {}'.format(np.average(word_count_sentence)))\n",
    "\n",
    "import matplotlib.pyplot as plt\n",
    "\n",
    "hist, bins = np.histogram(word_count_sentence, bins=30)\n",
    "width = 0.7 * (bins[1] - bins[0])\n",
    "center = (bins[:-1] + bins[1:]) / 2\n",
    "plt.bar(center, hist, align='center', width=width)\n",
    "plt.title(\"Repartition of the number of words/sentence\")\n",
    "plt.xlabel('Number of words/sentence', fontsize=18)\n",
    "plt.ylabel('Count', fontsize=16)\n",
    "plt.show()\n",
    "\n",
    "print()\n",
    "print('The sentences {} to {}:'.format(*view_sentence_range))\n",
    "print('\\n'.join(text.split('\\n')[view_sentence_range[0]:view_sentence_range[1]]))"
   ]
  },
  {
   "cell_type": "markdown",
   "metadata": {
    "deletable": true,
    "editable": true
   },
   "source": [
    "## Implement Preprocessing Functions\n",
    "The first thing to do to any dataset is preprocessing.  Implement the following preprocessing functions below:\n",
    "- Lookup Table\n",
    "- Tokenize Punctuation\n",
    "\n",
    "### Lookup Table\n",
    "To create a word embedding, you first need to transform the words to ids.  In this function, create two dictionaries:\n",
    "- Dictionary to go from the words to an id, we'll call `vocab_to_int`\n",
    "- Dictionary to go from the id to word, we'll call `int_to_vocab`\n",
    "\n",
    "Return these dictionaries in the following tuple `(vocab_to_int, int_to_vocab)`"
   ]
  },
  {
   "cell_type": "code",
   "execution_count": 3,
   "metadata": {
    "collapsed": false,
    "deletable": true,
    "editable": true
   },
   "outputs": [
    {
     "name": "stdout",
     "output_type": "stream",
     "text": [
      "Tests Passed\n"
     ]
    }
   ],
   "source": [
    "import numpy as np\n",
    "import problem_unittests as tests\n",
    "\n",
    "def create_lookup_tables(text):\n",
    "    \"\"\"\n",
    "    Create lookup tables for vocabulary\n",
    "    :param text: The text of tv scripts split into words\n",
    "    :return: A tuple of dicts (vocab_to_int, int_to_vocab)\n",
    "    \"\"\"\n",
    "    \n",
    "    vocab_to_int = {}\n",
    "    current_int = 1\n",
    "    for word in text:\n",
    "        if word not in vocab_to_int:\n",
    "            vocab_to_int[word] = current_int\n",
    "            current_int += 1\n",
    "    \n",
    "    int_to_vocab = {i:word for word, i in vocab_to_int.items()}\n",
    "    \n",
    "    return (vocab_to_int, int_to_vocab)\n",
    "\n",
    "\n",
    "\"\"\"\n",
    "DON'T MODIFY ANYTHING IN THIS CELL THAT IS BELOW THIS LINE\n",
    "\"\"\"\n",
    "tests.test_create_lookup_tables(create_lookup_tables)"
   ]
  },
  {
   "cell_type": "markdown",
   "metadata": {
    "deletable": true,
    "editable": true
   },
   "source": [
    "### Tokenize Punctuation\n",
    "We'll be splitting the script into a word array using spaces as delimiters.  However, punctuations like periods and exclamation marks make it hard for the neural network to distinguish between the word \"bye\" and \"bye!\".\n",
    "\n",
    "Implement the function `token_lookup` to return a dict that will be used to tokenize symbols like \"!\" into \"||Exclamation_Mark||\".  Create a dictionary for the following symbols where the symbol is the key and value is the token:\n",
    "- Period ( . )\n",
    "- Comma ( , )\n",
    "- Quotation Mark ( \" )\n",
    "- Semicolon ( ; )\n",
    "- Exclamation mark ( ! )\n",
    "- Question mark ( ? )\n",
    "- Left Parentheses ( ( )\n",
    "- Right Parentheses ( ) )\n",
    "- Dash ( -- )\n",
    "- Return ( \\n )\n",
    "\n",
    "This dictionary will be used to token the symbols and add the delimiter (space) around it.  This separates the symbols as it's own word, making it easier for the neural network to predict on the next word. Make sure you don't use a token that could be confused as a word. Instead of using the token \"dash\", try using something like \"||dash||\"."
   ]
  },
  {
   "cell_type": "code",
   "execution_count": 4,
   "metadata": {
    "collapsed": false,
    "deletable": true,
    "editable": true
   },
   "outputs": [
    {
     "name": "stdout",
     "output_type": "stream",
     "text": [
      "Tests Passed\n"
     ]
    }
   ],
   "source": [
    "def token_lookup():\n",
    "    \"\"\"\n",
    "    Generate a dict to turn punctuation into a token.\n",
    "    :return: Tokenize dictionary where the key is the punctuation and the value is the token\n",
    "    \"\"\"\n",
    "    \n",
    "    delimiter = \"||\"\n",
    "    symbols = {\n",
    "        \".\":\"Dot\", \n",
    "        \",\":\"Comma\",\n",
    "        '\"':\"Quotation_Mark\",\n",
    "        \";\":\"Semicolon\",\n",
    "        \"!\":\"Exclamation_Mark\",\n",
    "        \"?\":\"Question_Mark\",\n",
    "        \"(\":\"Left_Parentheses\",\n",
    "        \")\":\"Right_Parentheses\",\n",
    "        \"--\":\"Dash\",\n",
    "        \"\\n\":\"Return\"\n",
    "    }\n",
    "    \n",
    "    return {symbol:delimiter+token+delimiter for symbol, token in symbols.items()}\n",
    "\n",
    "\"\"\"\n",
    "DON'T MODIFY ANYTHING IN THIS CELL THAT IS BELOW THIS LINE\n",
    "\"\"\"\n",
    "tests.test_tokenize(token_lookup)"
   ]
  },
  {
   "cell_type": "markdown",
   "metadata": {
    "deletable": true,
    "editable": true
   },
   "source": [
    "## Preprocess all the data and save it\n",
    "Running the code cell below will preprocess all the data and save it to file."
   ]
  },
  {
   "cell_type": "code",
   "execution_count": 5,
   "metadata": {
    "collapsed": false,
    "deletable": true,
    "editable": true
   },
   "outputs": [],
   "source": [
    "\"\"\"\n",
    "DON'T MODIFY ANYTHING IN THIS CELL\n",
    "\"\"\"\n",
    "# Preprocess Training, Validation, and Testing Data\n",
    "helper.preprocess_and_save_data(data_dir, token_lookup, create_lookup_tables)"
   ]
  },
  {
   "cell_type": "markdown",
   "metadata": {
    "deletable": true,
    "editable": true
   },
   "source": [
    "# Check Point\n",
    "This is your first checkpoint. If you ever decide to come back to this notebook or have to restart the notebook, you can start from here. The preprocessed data has been saved to disk."
   ]
  },
  {
   "cell_type": "code",
   "execution_count": 6,
   "metadata": {
    "collapsed": false,
    "deletable": true,
    "editable": true
   },
   "outputs": [],
   "source": [
    "\"\"\"\n",
    "DON'T MODIFY ANYTHING IN THIS CELL\n",
    "\"\"\"\n",
    "import helper\n",
    "import numpy as np\n",
    "import problem_unittests as tests\n",
    "\n",
    "int_text, vocab_to_int, int_to_vocab, token_dict = helper.load_preprocess()"
   ]
  },
  {
   "cell_type": "markdown",
   "metadata": {
    "deletable": true,
    "editable": true
   },
   "source": [
    "## Build the Neural Network\n",
    "You'll build the components necessary to build a RNN by implementing the following functions below:\n",
    "- get_inputs\n",
    "- get_init_cell\n",
    "- get_embed\n",
    "- build_rnn\n",
    "- build_nn\n",
    "- get_batches\n",
    "\n",
    "### Check the Version of TensorFlow and Access to GPU"
   ]
  },
  {
   "cell_type": "code",
   "execution_count": 7,
   "metadata": {
    "collapsed": false
   },
   "outputs": [
    {
     "name": "stdout",
     "output_type": "stream",
     "text": [
      "TensorFlow Version: 1.0.0\n",
      "Default GPU Device: /gpu:0\n"
     ]
    }
   ],
   "source": [
    "\"\"\"\n",
    "DON'T MODIFY ANYTHING IN THIS CELL\n",
    "\"\"\"\n",
    "from distutils.version import LooseVersion\n",
    "import warnings\n",
    "import tensorflow as tf\n",
    "\n",
    "# Check TensorFlow Version\n",
    "assert LooseVersion(tf.__version__) >= LooseVersion('1.0'), 'Please use TensorFlow version 1.0 or newer'\n",
    "print('TensorFlow Version: {}'.format(tf.__version__))\n",
    "\n",
    "# Check for a GPU\n",
    "if not tf.test.gpu_device_name():\n",
    "    warnings.warn('No GPU found. Please use a GPU to train your neural network.')\n",
    "else:\n",
    "    print('Default GPU Device: {}'.format(tf.test.gpu_device_name()))"
   ]
  },
  {
   "cell_type": "markdown",
   "metadata": {},
   "source": [
    "### Input\n",
    "Implement the `get_inputs()` function to create TF Placeholders for the Neural Network.  It should create the following placeholders:\n",
    "- Input text placeholder named \"input\" using the [TF Placeholder](https://www.tensorflow.org/api_docs/python/tf/placeholder) `name` parameter.\n",
    "- Targets placeholder\n",
    "- Learning Rate placeholder\n",
    "\n",
    "Return the placeholders in the following the tuple `(Input, Targets, LearingRate)`"
   ]
  },
  {
   "cell_type": "code",
   "execution_count": 8,
   "metadata": {
    "collapsed": false,
    "deletable": true,
    "editable": true
   },
   "outputs": [
    {
     "name": "stdout",
     "output_type": "stream",
     "text": [
      "Tests Passed\n"
     ]
    }
   ],
   "source": [
    "def get_inputs():\n",
    "    \"\"\"\n",
    "    Create TF Placeholders for input, targets, and learning rate.\n",
    "    :return: Tuple (input, targets, learning rate)\n",
    "    \"\"\"\n",
    "    \n",
    "    input_text = tf.placeholder(tf.int32, [None, None], name=\"input\")\n",
    "    targets = tf.placeholder(tf.int32, [None, None], name=\"targets\")\n",
    "    learning_rate = tf.placeholder(tf.float32, name=\"learning_rate\")\n",
    "    \n",
    "    return input_text, targets, learning_rate\n",
    "\n",
    "\n",
    "\"\"\"\n",
    "DON'T MODIFY ANYTHING IN THIS CELL THAT IS BELOW THIS LINE\n",
    "\"\"\"\n",
    "tests.test_get_inputs(get_inputs)"
   ]
  },
  {
   "cell_type": "markdown",
   "metadata": {
    "deletable": true,
    "editable": true
   },
   "source": [
    "### Build RNN Cell and Initialize\n",
    "Stack one or more [`BasicLSTMCells`](https://www.tensorflow.org/api_docs/python/tf/contrib/rnn/BasicLSTMCell) in a [`MultiRNNCell`](https://www.tensorflow.org/api_docs/python/tf/contrib/rnn/MultiRNNCell).\n",
    "- The Rnn size should be set using `rnn_size`\n",
    "- Initalize Cell State using the MultiRNNCell's [`zero_state()`](https://www.tensorflow.org/api_docs/python/tf/contrib/rnn/MultiRNNCell#zero_state) function\n",
    "    - Apply the name \"initial_state\" to the initial state using [`tf.identity()`](https://www.tensorflow.org/api_docs/python/tf/identity)\n",
    "\n",
    "Return the cell and initial state in the following tuple `(Cell, InitialState)`"
   ]
  },
  {
   "cell_type": "code",
   "execution_count": 9,
   "metadata": {
    "collapsed": false,
    "deletable": true,
    "editable": true
   },
   "outputs": [
    {
     "name": "stdout",
     "output_type": "stream",
     "text": [
      "Tests Passed\n"
     ]
    }
   ],
   "source": [
    "def get_init_cell(batch_size, rnn_size, lstm_layers=1):\n",
    "    \"\"\"\n",
    "    Create an RNN Cell and initialize it.\n",
    "    :param batch_size: Size of batches\n",
    "    :param rnn_size: Size of RNNs\n",
    "    :return: Tuple (cell, initialize state)\n",
    "    \"\"\"\n",
    "    # Basic LSTM cell\n",
    "    lstm = tf.contrib.rnn.BasicLSTMCell(rnn_size)\n",
    "    \n",
    "#     Add dropout to the cell\n",
    "#     drop = tf.contrib.rnn.DropoutWrapper(lstm, output_keep_prob=keep_prob)\n",
    "    \n",
    "    # Stack up multiple LSTM layers\n",
    "    cell = tf.contrib.rnn.MultiRNNCell([lstm] * lstm_layers)\n",
    "    \n",
    "    # Getting an initial state of all zeros\n",
    "    initial_state = tf.identity(cell.zero_state(batch_size, tf.float32),name=\"initial_state\")\n",
    "    \n",
    "    return cell, initial_state\n",
    "\n",
    "\n",
    "\"\"\"\n",
    "DON'T MODIFY ANYTHING IN THIS CELL THAT IS BELOW THIS LINE\n",
    "\"\"\"\n",
    "tests.test_get_init_cell(get_init_cell)"
   ]
  },
  {
   "cell_type": "markdown",
   "metadata": {
    "deletable": true,
    "editable": true
   },
   "source": [
    "### Word Embedding\n",
    "Apply embedding to `input_data` using TensorFlow.  Return the embedded sequence."
   ]
  },
  {
   "cell_type": "code",
   "execution_count": 10,
   "metadata": {
    "collapsed": false,
    "deletable": true,
    "editable": true
   },
   "outputs": [
    {
     "name": "stdout",
     "output_type": "stream",
     "text": [
      "Tests Passed\n"
     ]
    }
   ],
   "source": [
    "def get_embed(input_data, vocab_size, embed_dim):\n",
    "    \"\"\"\n",
    "    Create embedding for <input_data>.\n",
    "    :param input_data: TF placeholder for text input.\n",
    "    :param vocab_size: Number of words in vocabulary.\n",
    "    :param embed_dim: Number of embedding dimensions\n",
    "    :return: Embedded input.\n",
    "    \"\"\"\n",
    "    \n",
    "    return tf.contrib.layers.embed_sequence(input_data, vocab_size=vocab_size, embed_dim=embed_dim)\n",
    "\n",
    "\"\"\"\n",
    "DON'T MODIFY ANYTHING IN THIS CELL THAT IS BELOW THIS LINE\n",
    "\"\"\"\n",
    "tests.test_get_embed(get_embed)"
   ]
  },
  {
   "cell_type": "markdown",
   "metadata": {
    "deletable": true,
    "editable": true
   },
   "source": [
    "### Build RNN\n",
    "You created a RNN Cell in the `get_init_cell()` function.  Time to use the cell to create a RNN.\n",
    "- Build the RNN using the [`tf.nn.dynamic_rnn()`](https://www.tensorflow.org/api_docs/python/tf/nn/dynamic_rnn)\n",
    " - Apply the name \"final_state\" to the final state using [`tf.identity()`](https://www.tensorflow.org/api_docs/python/tf/identity)\n",
    "\n",
    "Return the outputs and final_state state in the following tuple `(Outputs, FinalState)` "
   ]
  },
  {
   "cell_type": "code",
   "execution_count": 11,
   "metadata": {
    "collapsed": false,
    "deletable": true,
    "editable": true
   },
   "outputs": [
    {
     "name": "stdout",
     "output_type": "stream",
     "text": [
      "Tests Passed\n"
     ]
    }
   ],
   "source": [
    "def build_rnn(cell, inputs):\n",
    "    \"\"\"\n",
    "    Create a RNN using a RNN Cell\n",
    "    :param cell: RNN Cell\n",
    "    :param inputs: Input text data\n",
    "    :return: Tuple (Outputs, Final State)\n",
    "    \"\"\"\n",
    "    \n",
    "    outputs, final_state = tf.nn.dynamic_rnn(cell, inputs, dtype=tf.float32)\n",
    "    final_state = tf.identity(final_state, name=\"final_state\")\n",
    "    \n",
    "    return outputs, final_state\n",
    "\n",
    "\n",
    "\"\"\"\n",
    "DON'T MODIFY ANYTHING IN THIS CELL THAT IS BELOW THIS LINE\n",
    "\"\"\"\n",
    "tests.test_build_rnn(build_rnn)"
   ]
  },
  {
   "cell_type": "markdown",
   "metadata": {
    "deletable": true,
    "editable": true
   },
   "source": [
    "### Build the Neural Network\n",
    "Apply the functions you implemented above to:\n",
    "- Apply embedding to `input_data` using your `get_embed(input_data, vocab_size, embed_dim)` function.\n",
    "- Build RNN using `cell` and your `build_rnn(cell, inputs)` function.\n",
    "- Apply a fully connected layer with a linear activation and `vocab_size` as the number of outputs.\n",
    "\n",
    "Return the logits and final state in the following tuple (Logits, FinalState) "
   ]
  },
  {
   "cell_type": "code",
   "execution_count": 12,
   "metadata": {
    "collapsed": false,
    "deletable": true,
    "editable": true
   },
   "outputs": [
    {
     "name": "stdout",
     "output_type": "stream",
     "text": [
      "Tests Passed\n"
     ]
    }
   ],
   "source": [
    "def build_nn(cell, rnn_size, input_data, vocab_size):\n",
    "    \"\"\"\n",
    "    Build part of the neural network\n",
    "    :param cell: RNN cell\n",
    "    :param rnn_size: Size of rnns\n",
    "    :param input_data: Input data\n",
    "    :param vocab_size: Vocabulary size\n",
    "    :return: Tuple (Logits, FinalState)\n",
    "    \"\"\"\n",
    "    \n",
    "    embed = get_embed(input_data, vocab_size, embed_dim=rnn_size)\n",
    "    \n",
    "    outputs, final_state = build_rnn(cell, embed)\n",
    "    \n",
    "    logits = tf.contrib.layers.fully_connected(outputs, vocab_size, activation_fn=None) # default activation is linear\n",
    "    \n",
    "    return logits, final_state\n",
    "\n",
    "\n",
    "\"\"\"\n",
    "DON'T MODIFY ANYTHING IN THIS CELL THAT IS BELOW THIS LINE\n",
    "\"\"\"\n",
    "tests.test_build_nn(build_nn)"
   ]
  },
  {
   "cell_type": "markdown",
   "metadata": {
    "deletable": true,
    "editable": true
   },
   "source": [
    "### Batches\n",
    "Implement `get_batches` to create batches of input and targets using `int_text`.  The batches should be a Numpy array with the shape `(number of batches, 2, batch size, sequence length)`. Each batch contains two elements:\n",
    "- The first element is a single batch of **input** with the shape `[batch size, sequence length]`\n",
    "- The second element is a single batch of **targets** with the shape `[batch size, sequence length]`\n",
    "\n",
    "If you can't fill the last batch with enough data, drop the last batch.\n",
    "\n",
    "For exmple, `get_batches([1, 2, 3, 4, 5, 6, 7, 8, 9, 10, 11, 12, 13, 14, 15], 2, 3)` would return a Numpy array of the following:\n",
    "```\n",
    "[\n",
    "  # First Batch\n",
    "  [\n",
    "    # Batch of Input\n",
    "    [[ 1  2  3], [ 7  8  9]],\n",
    "    # Batch of targets\n",
    "    [[ 2  3  4], [ 8  9 10]]\n",
    "  ],\n",
    " \n",
    "  # Second Batch\n",
    "  [\n",
    "    # Batch of Input\n",
    "    [[ 4  5  6], [10 11 12]],\n",
    "    # Batch of targets\n",
    "    [[ 5  6  7], [11 12 13]]\n",
    "  ]\n",
    "]\n",
    "```"
   ]
  },
  {
   "cell_type": "code",
   "execution_count": 13,
   "metadata": {
    "collapsed": false,
    "deletable": true,
    "editable": true
   },
   "outputs": [
    {
     "name": "stdout",
     "output_type": "stream",
     "text": [
      "Tests Passed\n"
     ]
    }
   ],
   "source": [
    "def get_batches(int_text, batch_size, seq_length):\n",
    "    \"\"\"\n",
    "    Return batches of input and target\n",
    "    :param int_text: Text with the words replaced by their ids\n",
    "    :param batch_size: The size of batch\n",
    "    :param seq_length: The length of sequence\n",
    "    :return: Batches as a Numpy array\n",
    "    \"\"\"\n",
    "    \n",
    "    prod = batch_size*seq_length\n",
    "    \n",
    "    n_items = ((len(int_text)-1)//prod) * prod # the -1 comes from the fact that I need a target for the last character\n",
    "    \n",
    "    # Drop the last batch if not enough data.\n",
    "    # Targets = inputs shifted one to character over\n",
    "    int_text = np.array(int_text)\n",
    "    int_text, targets = int_text[:n_items], int_text[1:n_items+1]\n",
    "    \n",
    "    n_seq = len(int_text)/seq_length\n",
    "    \n",
    "    int_text, targets = np.split(int_text, n_seq), np.split(targets, n_seq)\n",
    "    \n",
    "    return np.array([\n",
    "        [int_text[b:b+batch_size], \n",
    "         targets[b:b+batch_size]]\n",
    "    for b in range(0,len(int_text), batch_size)])\n",
    "\n",
    "\"\"\"\n",
    "DON'T MODIFY ANYTHING IN THIS CELL THAT IS BELOW THIS LINE\n",
    "\"\"\"\n",
    "tests.test_get_batches(get_batches)"
   ]
  },
  {
   "cell_type": "markdown",
   "metadata": {
    "deletable": true,
    "editable": true
   },
   "source": [
    "## Neural Network Training\n",
    "### Hyperparameters\n",
    "Tune the following parameters:\n",
    "\n",
    "- Set `num_epochs` to the number of epochs.\n",
    "- Set `batch_size` to the batch size.\n",
    "- Set `rnn_size` to the size of the RNNs.\n",
    "- Set `seq_length` to the length of sequence.\n",
    "- Set `learning_rate` to the learning rate.\n",
    "- Set `show_every_n_batches` to the number of batches the neural network should print progress."
   ]
  },
  {
   "cell_type": "code",
   "execution_count": 14,
   "metadata": {
    "collapsed": true,
    "deletable": true,
    "editable": true
   },
   "outputs": [],
   "source": [
    "# Number of Epochs\n",
    "num_epochs = 100\n",
    "# Batch Size\n",
    "batch_size = 50\n",
    "# RNN Size\n",
    "rnn_size = 400\n",
    "# Sequence Length\n",
    "seq_length = 12 # Average number of words in each line\n",
    "# Learning Rate\n",
    "learning_rate = 0.01\n",
    "# Show stats for every n number of batches\n",
    "show_every_n_batches = 50\n",
    "# Number of lstm layers\n",
    "lstm_layers = 1\n",
    "\n",
    "\"\"\"\n",
    "DON'T MODIFY ANYTHING IN THIS CELL THAT IS BELOW THIS LINE\n",
    "\"\"\"\n",
    "save_dir = './save'"
   ]
  },
  {
   "cell_type": "markdown",
   "metadata": {
    "deletable": true,
    "editable": true
   },
   "source": [
    "### Build the Graph\n",
    "Build the graph using the neural network you implemented."
   ]
  },
  {
   "cell_type": "code",
   "execution_count": 15,
   "metadata": {
    "collapsed": false,
    "deletable": true,
    "editable": true
   },
   "outputs": [],
   "source": [
    "\"\"\"\n",
    "DON'T MODIFY ANYTHING IN THIS CELL\n",
    "\"\"\"\n",
    "from tensorflow.contrib import seq2seq\n",
    "\n",
    "train_graph = tf.Graph()\n",
    "with train_graph.as_default():\n",
    "    vocab_size = len(int_to_vocab)\n",
    "    input_text, targets, lr = get_inputs()\n",
    "    input_data_shape = tf.shape(input_text)\n",
    "    cell, initial_state = get_init_cell(input_data_shape[0], rnn_size,lstm_layers=lstm_layers)\n",
    "    logits, final_state = build_nn(cell, rnn_size, input_text, vocab_size)\n",
    "\n",
    "    # Probabilities for generating words\n",
    "    probs = tf.nn.softmax(logits, name='probs')\n",
    "\n",
    "    # Loss function\n",
    "    cost = seq2seq.sequence_loss(\n",
    "        logits,\n",
    "        targets,\n",
    "        tf.ones([input_data_shape[0], input_data_shape[1]]))\n",
    "\n",
    "    # Optimizer\n",
    "    optimizer = tf.train.AdamOptimizer(lr)\n",
    "\n",
    "    # Gradient Clipping\n",
    "    gradients = optimizer.compute_gradients(cost)\n",
    "    capped_gradients = [(tf.clip_by_value(grad, -1., 1.), var) for grad, var in gradients]\n",
    "    train_op = optimizer.apply_gradients(capped_gradients)"
   ]
  },
  {
   "cell_type": "markdown",
   "metadata": {
    "deletable": true,
    "editable": true
   },
   "source": [
    "## Train\n",
    "Train the neural network on the preprocessed data.  If you have a hard time getting a good loss, check the [forms](https://discussions.udacity.com/) to see if anyone is having the same problem."
   ]
  },
  {
   "cell_type": "code",
   "execution_count": 16,
   "metadata": {
    "collapsed": false,
    "deletable": true,
    "editable": true,
    "scrolled": true
   },
   "outputs": [
    {
     "name": "stdout",
     "output_type": "stream",
     "text": [
      "Epoch   0 Batch    0/115   train_loss = 8.822\n",
      "Epoch   0 Batch   50/115   train_loss = 5.435\n",
      "Epoch   0 Batch  100/115   train_loss = 5.061\n",
      "Epoch   1 Batch   35/115   train_loss = 4.845\n",
      "Epoch   1 Batch   85/115   train_loss = 4.690\n",
      "Epoch   2 Batch   20/115   train_loss = 4.500\n",
      "Epoch   2 Batch   70/115   train_loss = 4.474\n",
      "Epoch   3 Batch    5/115   train_loss = 4.160\n",
      "Epoch   3 Batch   55/115   train_loss = 4.071\n",
      "Epoch   3 Batch  105/115   train_loss = 3.961\n",
      "Epoch   4 Batch   40/115   train_loss = 3.760\n",
      "Epoch   4 Batch   90/115   train_loss = 3.837\n",
      "Epoch   5 Batch   25/115   train_loss = 3.556\n",
      "Epoch   5 Batch   75/115   train_loss = 3.587\n",
      "Epoch   6 Batch   10/115   train_loss = 3.219\n",
      "Epoch   6 Batch   60/115   train_loss = 3.318\n",
      "Epoch   6 Batch  110/115   train_loss = 3.129\n",
      "Epoch   7 Batch   45/115   train_loss = 3.117\n",
      "Epoch   7 Batch   95/115   train_loss = 3.005\n",
      "Epoch   8 Batch   30/115   train_loss = 3.021\n",
      "Epoch   8 Batch   80/115   train_loss = 2.884\n",
      "Epoch   9 Batch   15/115   train_loss = 2.707\n",
      "Epoch   9 Batch   65/115   train_loss = 2.589\n",
      "Epoch  10 Batch    0/115   train_loss = 2.543\n",
      "Epoch  10 Batch   50/115   train_loss = 2.414\n",
      "Epoch  10 Batch  100/115   train_loss = 2.320\n",
      "Epoch  11 Batch   35/115   train_loss = 2.327\n",
      "Epoch  11 Batch   85/115   train_loss = 2.064\n",
      "Epoch  12 Batch   20/115   train_loss = 2.240\n",
      "Epoch  12 Batch   70/115   train_loss = 2.036\n",
      "Epoch  13 Batch    5/115   train_loss = 1.966\n",
      "Epoch  13 Batch   55/115   train_loss = 2.031\n",
      "Epoch  13 Batch  105/115   train_loss = 2.131\n",
      "Epoch  14 Batch   40/115   train_loss = 1.992\n",
      "Epoch  14 Batch   90/115   train_loss = 1.630\n",
      "Epoch  15 Batch   25/115   train_loss = 1.853\n",
      "Epoch  15 Batch   75/115   train_loss = 1.726\n",
      "Epoch  16 Batch   10/115   train_loss = 1.861\n",
      "Epoch  16 Batch   60/115   train_loss = 1.863\n",
      "Epoch  16 Batch  110/115   train_loss = 1.757\n",
      "Epoch  17 Batch   45/115   train_loss = 1.701\n",
      "Epoch  17 Batch   95/115   train_loss = 1.563\n",
      "Epoch  18 Batch   30/115   train_loss = 1.612\n",
      "Epoch  18 Batch   80/115   train_loss = 1.625\n",
      "Epoch  19 Batch   15/115   train_loss = 1.458\n",
      "Epoch  19 Batch   65/115   train_loss = 1.404\n",
      "Epoch  20 Batch    0/115   train_loss = 1.482\n",
      "Epoch  20 Batch   50/115   train_loss = 1.373\n",
      "Epoch  20 Batch  100/115   train_loss = 1.517\n",
      "Epoch  21 Batch   35/115   train_loss = 1.453\n",
      "Epoch  21 Batch   85/115   train_loss = 1.290\n",
      "Epoch  22 Batch   20/115   train_loss = 1.474\n",
      "Epoch  22 Batch   70/115   train_loss = 1.248\n",
      "Epoch  23 Batch    5/115   train_loss = 1.313\n",
      "Epoch  23 Batch   55/115   train_loss = 1.400\n",
      "Epoch  23 Batch  105/115   train_loss = 1.335\n",
      "Epoch  24 Batch   40/115   train_loss = 1.384\n",
      "Epoch  24 Batch   90/115   train_loss = 1.166\n",
      "Epoch  25 Batch   25/115   train_loss = 1.360\n",
      "Epoch  25 Batch   75/115   train_loss = 1.207\n",
      "Epoch  26 Batch   10/115   train_loss = 1.359\n",
      "Epoch  26 Batch   60/115   train_loss = 1.307\n",
      "Epoch  26 Batch  110/115   train_loss = 1.334\n",
      "Epoch  27 Batch   45/115   train_loss = 1.234\n",
      "Epoch  27 Batch   95/115   train_loss = 1.052\n",
      "Epoch  28 Batch   30/115   train_loss = 1.206\n",
      "Epoch  28 Batch   80/115   train_loss = 1.197\n",
      "Epoch  29 Batch   15/115   train_loss = 1.136\n",
      "Epoch  29 Batch   65/115   train_loss = 1.053\n",
      "Epoch  30 Batch    0/115   train_loss = 1.214\n",
      "Epoch  30 Batch   50/115   train_loss = 1.112\n",
      "Epoch  30 Batch  100/115   train_loss = 1.171\n",
      "Epoch  31 Batch   35/115   train_loss = 1.081\n",
      "Epoch  31 Batch   85/115   train_loss = 1.006\n",
      "Epoch  32 Batch   20/115   train_loss = 1.174\n",
      "Epoch  32 Batch   70/115   train_loss = 1.035\n",
      "Epoch  33 Batch    5/115   train_loss = 1.073\n",
      "Epoch  33 Batch   55/115   train_loss = 1.101\n",
      "Epoch  33 Batch  105/115   train_loss = 1.194\n",
      "Epoch  34 Batch   40/115   train_loss = 1.232\n",
      "Epoch  34 Batch   90/115   train_loss = 0.914\n",
      "Epoch  35 Batch   25/115   train_loss = 1.125\n",
      "Epoch  35 Batch   75/115   train_loss = 1.004\n",
      "Epoch  36 Batch   10/115   train_loss = 1.131\n",
      "Epoch  36 Batch   60/115   train_loss = 1.192\n",
      "Epoch  36 Batch  110/115   train_loss = 1.144\n",
      "Epoch  37 Batch   45/115   train_loss = 1.082\n",
      "Epoch  37 Batch   95/115   train_loss = 0.979\n",
      "Epoch  38 Batch   30/115   train_loss = 1.077\n",
      "Epoch  38 Batch   80/115   train_loss = 1.039\n",
      "Epoch  39 Batch   15/115   train_loss = 1.007\n",
      "Epoch  39 Batch   65/115   train_loss = 0.975\n",
      "Epoch  40 Batch    0/115   train_loss = 1.084\n",
      "Epoch  40 Batch   50/115   train_loss = 1.096\n",
      "Epoch  40 Batch  100/115   train_loss = 1.028\n",
      "Epoch  41 Batch   35/115   train_loss = 1.027\n",
      "Epoch  41 Batch   85/115   train_loss = 0.899\n",
      "Epoch  42 Batch   20/115   train_loss = 0.935\n",
      "Epoch  42 Batch   70/115   train_loss = 0.846\n",
      "Epoch  43 Batch    5/115   train_loss = 0.884\n",
      "Epoch  43 Batch   55/115   train_loss = 1.047\n",
      "Epoch  43 Batch  105/115   train_loss = 0.975\n",
      "Epoch  44 Batch   40/115   train_loss = 1.078\n",
      "Epoch  44 Batch   90/115   train_loss = 0.794\n",
      "Epoch  45 Batch   25/115   train_loss = 1.005\n",
      "Epoch  45 Batch   75/115   train_loss = 0.880\n",
      "Epoch  46 Batch   10/115   train_loss = 0.987\n",
      "Epoch  46 Batch   60/115   train_loss = 1.013\n",
      "Epoch  46 Batch  110/115   train_loss = 0.953\n",
      "Epoch  47 Batch   45/115   train_loss = 1.031\n",
      "Epoch  47 Batch   95/115   train_loss = 0.867\n",
      "Epoch  48 Batch   30/115   train_loss = 0.995\n",
      "Epoch  48 Batch   80/115   train_loss = 0.957\n",
      "Epoch  49 Batch   15/115   train_loss = 0.985\n",
      "Epoch  49 Batch   65/115   train_loss = 0.890\n",
      "Epoch  50 Batch    0/115   train_loss = 0.951\n",
      "Epoch  50 Batch   50/115   train_loss = 0.955\n",
      "Epoch  50 Batch  100/115   train_loss = 1.002\n",
      "Epoch  51 Batch   35/115   train_loss = 0.942\n",
      "Epoch  51 Batch   85/115   train_loss = 0.897\n",
      "Epoch  52 Batch   20/115   train_loss = 0.998\n",
      "Epoch  52 Batch   70/115   train_loss = 0.962\n",
      "Epoch  53 Batch    5/115   train_loss = 0.864\n",
      "Epoch  53 Batch   55/115   train_loss = 1.055\n",
      "Epoch  53 Batch  105/115   train_loss = 1.040\n",
      "Epoch  54 Batch   40/115   train_loss = 1.086\n",
      "Epoch  54 Batch   90/115   train_loss = 0.822\n",
      "Epoch  55 Batch   25/115   train_loss = 1.061\n",
      "Epoch  55 Batch   75/115   train_loss = 0.894\n",
      "Epoch  56 Batch   10/115   train_loss = 0.952\n",
      "Epoch  56 Batch   60/115   train_loss = 1.023\n",
      "Epoch  56 Batch  110/115   train_loss = 0.974\n",
      "Epoch  57 Batch   45/115   train_loss = 0.961\n",
      "Epoch  57 Batch   95/115   train_loss = 0.874\n",
      "Epoch  58 Batch   30/115   train_loss = 1.007\n",
      "Epoch  58 Batch   80/115   train_loss = 0.887\n",
      "Epoch  59 Batch   15/115   train_loss = 0.877\n",
      "Epoch  59 Batch   65/115   train_loss = 0.834\n",
      "Epoch  60 Batch    0/115   train_loss = 0.929\n",
      "Epoch  60 Batch   50/115   train_loss = 0.890\n",
      "Epoch  60 Batch  100/115   train_loss = 0.925\n",
      "Epoch  61 Batch   35/115   train_loss = 0.865\n",
      "Epoch  61 Batch   85/115   train_loss = 0.842\n",
      "Epoch  62 Batch   20/115   train_loss = 0.787\n",
      "Epoch  62 Batch   70/115   train_loss = 0.739\n",
      "Epoch  63 Batch    5/115   train_loss = 0.877\n",
      "Epoch  63 Batch   55/115   train_loss = 0.902\n",
      "Epoch  63 Batch  105/115   train_loss = 0.895\n",
      "Epoch  64 Batch   40/115   train_loss = 0.892\n",
      "Epoch  64 Batch   90/115   train_loss = 0.790\n",
      "Epoch  65 Batch   25/115   train_loss = 0.937\n",
      "Epoch  65 Batch   75/115   train_loss = 0.781\n",
      "Epoch  66 Batch   10/115   train_loss = 0.879\n",
      "Epoch  66 Batch   60/115   train_loss = 0.950\n",
      "Epoch  66 Batch  110/115   train_loss = 0.895\n",
      "Epoch  67 Batch   45/115   train_loss = 0.877\n",
      "Epoch  67 Batch   95/115   train_loss = 0.723\n",
      "Epoch  68 Batch   30/115   train_loss = 0.848\n",
      "Epoch  68 Batch   80/115   train_loss = 0.850\n",
      "Epoch  69 Batch   15/115   train_loss = 0.805\n",
      "Epoch  69 Batch   65/115   train_loss = 0.799\n",
      "Epoch  70 Batch    0/115   train_loss = 0.850\n",
      "Epoch  70 Batch   50/115   train_loss = 0.868\n",
      "Epoch  70 Batch  100/115   train_loss = 0.876\n",
      "Epoch  71 Batch   35/115   train_loss = 0.847\n",
      "Epoch  71 Batch   85/115   train_loss = 0.811\n",
      "Epoch  72 Batch   20/115   train_loss = 0.832\n",
      "Epoch  72 Batch   70/115   train_loss = 0.846\n",
      "Epoch  73 Batch    5/115   train_loss = 0.757\n",
      "Epoch  73 Batch   55/115   train_loss = 0.945\n",
      "Epoch  73 Batch  105/115   train_loss = 1.014\n",
      "Epoch  74 Batch   40/115   train_loss = 0.926\n",
      "Epoch  74 Batch   90/115   train_loss = 0.862\n",
      "Epoch  75 Batch   25/115   train_loss = 0.966\n",
      "Epoch  75 Batch   75/115   train_loss = 0.910\n",
      "Epoch  76 Batch   10/115   train_loss = 0.932\n",
      "Epoch  76 Batch   60/115   train_loss = 0.987\n",
      "Epoch  76 Batch  110/115   train_loss = 0.988\n",
      "Epoch  77 Batch   45/115   train_loss = 0.906\n",
      "Epoch  77 Batch   95/115   train_loss = 0.871\n",
      "Epoch  78 Batch   30/115   train_loss = 0.946\n",
      "Epoch  78 Batch   80/115   train_loss = 0.896\n",
      "Epoch  79 Batch   15/115   train_loss = 0.887\n",
      "Epoch  79 Batch   65/115   train_loss = 0.859\n",
      "Epoch  80 Batch    0/115   train_loss = 0.925\n",
      "Epoch  80 Batch   50/115   train_loss = 0.924\n",
      "Epoch  80 Batch  100/115   train_loss = 0.898\n",
      "Epoch  81 Batch   35/115   train_loss = 0.812\n",
      "Epoch  81 Batch   85/115   train_loss = 0.827\n",
      "Epoch  82 Batch   20/115   train_loss = 0.886\n",
      "Epoch  82 Batch   70/115   train_loss = 0.761\n",
      "Epoch  83 Batch    5/115   train_loss = 0.782\n",
      "Epoch  83 Batch   55/115   train_loss = 0.904\n",
      "Epoch  83 Batch  105/115   train_loss = 0.808\n",
      "Epoch  84 Batch   40/115   train_loss = 0.864\n",
      "Epoch  84 Batch   90/115   train_loss = 0.696\n",
      "Epoch  85 Batch   25/115   train_loss = 0.845\n",
      "Epoch  85 Batch   75/115   train_loss = 0.754\n",
      "Epoch  86 Batch   10/115   train_loss = 0.825\n",
      "Epoch  86 Batch   60/115   train_loss = 0.898\n",
      "Epoch  86 Batch  110/115   train_loss = 0.829\n",
      "Epoch  87 Batch   45/115   train_loss = 0.864\n",
      "Epoch  87 Batch   95/115   train_loss = 0.812\n",
      "Epoch  88 Batch   30/115   train_loss = 0.857\n",
      "Epoch  88 Batch   80/115   train_loss = 0.853\n",
      "Epoch  89 Batch   15/115   train_loss = 0.889\n",
      "Epoch  89 Batch   65/115   train_loss = 0.829\n",
      "Epoch  90 Batch    0/115   train_loss = 0.900\n",
      "Epoch  90 Batch   50/115   train_loss = 0.827\n",
      "Epoch  90 Batch  100/115   train_loss = 0.914\n",
      "Epoch  91 Batch   35/115   train_loss = 0.829\n",
      "Epoch  91 Batch   85/115   train_loss = 0.776\n",
      "Epoch  92 Batch   20/115   train_loss = 0.866\n",
      "Epoch  92 Batch   70/115   train_loss = 0.826\n",
      "Epoch  93 Batch    5/115   train_loss = 0.810\n",
      "Epoch  93 Batch   55/115   train_loss = 0.860\n",
      "Epoch  93 Batch  105/115   train_loss = 0.923\n",
      "Epoch  94 Batch   40/115   train_loss = 0.951\n",
      "Epoch  94 Batch   90/115   train_loss = 0.763\n",
      "Epoch  95 Batch   25/115   train_loss = 0.947\n",
      "Epoch  95 Batch   75/115   train_loss = 0.815\n",
      "Epoch  96 Batch   10/115   train_loss = 0.860\n",
      "Epoch  96 Batch   60/115   train_loss = 0.954\n",
      "Epoch  96 Batch  110/115   train_loss = 0.842\n",
      "Epoch  97 Batch   45/115   train_loss = 0.909\n",
      "Epoch  97 Batch   95/115   train_loss = 0.806\n",
      "Epoch  98 Batch   30/115   train_loss = 0.897\n",
      "Epoch  98 Batch   80/115   train_loss = 0.901\n",
      "Epoch  99 Batch   15/115   train_loss = 0.859\n",
      "Epoch  99 Batch   65/115   train_loss = 0.825\n",
      "Model Trained and Saved\n"
     ]
    }
   ],
   "source": [
    "\"\"\"\n",
    "DON'T MODIFY ANYTHING IN THIS CELL\n",
    "\"\"\"\n",
    "batches = get_batches(int_text, batch_size, seq_length)\n",
    "\n",
    "with tf.Session(graph=train_graph) as sess:\n",
    "    sess.run(tf.global_variables_initializer())\n",
    "\n",
    "    for epoch_i in range(num_epochs):\n",
    "        state = sess.run(initial_state, {input_text: batches[0][0]})\n",
    "\n",
    "        for batch_i, (x, y) in enumerate(batches):\n",
    "            feed = {\n",
    "                input_text: x,\n",
    "                targets: y,\n",
    "                initial_state: state,\n",
    "                lr: learning_rate}\n",
    "            train_loss, state, _ = sess.run([cost, final_state, train_op], feed)\n",
    "\n",
    "            # Show every <show_every_n_batches> batches\n",
    "            if (epoch_i * len(batches) + batch_i) % show_every_n_batches == 0:\n",
    "                print('Epoch {:>3} Batch {:>4}/{}   train_loss = {:.3f}'.format(\n",
    "                    epoch_i,\n",
    "                    batch_i,\n",
    "                    len(batches),\n",
    "                    train_loss))\n",
    "\n",
    "    # Save Model\n",
    "    saver = tf.train.Saver()\n",
    "    saver.save(sess, save_dir)\n",
    "    print('Model Trained and Saved')"
   ]
  },
  {
   "cell_type": "markdown",
   "metadata": {
    "deletable": true,
    "editable": true
   },
   "source": [
    "## Save Parameters\n",
    "Save `seq_length` and `save_dir` for generating a new TV script."
   ]
  },
  {
   "cell_type": "code",
   "execution_count": 17,
   "metadata": {
    "collapsed": false,
    "deletable": true,
    "editable": true
   },
   "outputs": [],
   "source": [
    "\"\"\"\n",
    "DON'T MODIFY ANYTHING IN THIS CELL\n",
    "\"\"\"\n",
    "# Save parameters for checkpoint\n",
    "helper.save_params((seq_length, save_dir))"
   ]
  },
  {
   "cell_type": "markdown",
   "metadata": {
    "deletable": true,
    "editable": true
   },
   "source": [
    "# Checkpoint"
   ]
  },
  {
   "cell_type": "code",
   "execution_count": 18,
   "metadata": {
    "collapsed": false,
    "deletable": true,
    "editable": true
   },
   "outputs": [],
   "source": [
    "\"\"\"\n",
    "DON'T MODIFY ANYTHING IN THIS CELL\n",
    "\"\"\"\n",
    "import tensorflow as tf\n",
    "import numpy as np\n",
    "import helper\n",
    "import problem_unittests as tests\n",
    "\n",
    "_, vocab_to_int, int_to_vocab, token_dict = helper.load_preprocess()\n",
    "seq_length, load_dir = helper.load_params()"
   ]
  },
  {
   "cell_type": "markdown",
   "metadata": {
    "deletable": true,
    "editable": true
   },
   "source": [
    "## Implement Generate Functions\n",
    "### Get Tensors\n",
    "Get tensors from `loaded_graph` using the function [`get_tensor_by_name()`](https://www.tensorflow.org/api_docs/python/tf/Graph#get_tensor_by_name).  Get the tensors using the following names:\n",
    "- \"input:0\"\n",
    "- \"initial_state:0\"\n",
    "- \"final_state:0\"\n",
    "- \"probs:0\"\n",
    "\n",
    "Return the tensors in the following tuple `(InputTensor, InitialStateTensor, FinalStateTensor, ProbsTensor)` "
   ]
  },
  {
   "cell_type": "code",
   "execution_count": 19,
   "metadata": {
    "collapsed": false,
    "deletable": true,
    "editable": true
   },
   "outputs": [
    {
     "name": "stdout",
     "output_type": "stream",
     "text": [
      "Tests Passed\n"
     ]
    }
   ],
   "source": [
    "def get_tensors(loaded_graph):\n",
    "    \"\"\"\n",
    "    Get input, initial state, final state, and probabilities tensor from <loaded_graph>\n",
    "    :param loaded_graph: TensorFlow graph loaded from file\n",
    "    :return: Tuple (InputTensor, InitialStateTensor, FinalStateTensor, ProbsTensor)\n",
    "    \"\"\"\n",
    "        \n",
    "    inputs = loaded_graph.get_tensor_by_name(\"input:0\")\n",
    "    initial_state = loaded_graph.get_tensor_by_name(\"initial_state:0\")\n",
    "    final_state = loaded_graph.get_tensor_by_name(\"final_state:0\")\n",
    "    probabilities = loaded_graph.get_tensor_by_name(\"probs:0\")\n",
    "    \n",
    "    return inputs, initial_state, final_state, probabilities\n",
    "\n",
    "\n",
    "\"\"\"\n",
    "DON'T MODIFY ANYTHING IN THIS CELL THAT IS BELOW THIS LINE\n",
    "\"\"\"\n",
    "tests.test_get_tensors(get_tensors)"
   ]
  },
  {
   "cell_type": "markdown",
   "metadata": {
    "deletable": true,
    "editable": true
   },
   "source": [
    "### Choose Word\n",
    "Implement the `pick_word()` function to select the next word using `probabilities`."
   ]
  },
  {
   "cell_type": "code",
   "execution_count": 20,
   "metadata": {
    "collapsed": false,
    "deletable": true,
    "editable": true
   },
   "outputs": [
    {
     "name": "stdout",
     "output_type": "stream",
     "text": [
      "Tests Passed\n"
     ]
    }
   ],
   "source": [
    "def pick_word(probabilities, int_to_vocab):\n",
    "    \"\"\"\n",
    "    Pick the next word in the generated text\n",
    "    :param probabilities: Probabilites of the next word\n",
    "    :param int_to_vocab: Dictionary of word ids as the keys and words as the values\n",
    "    :return: String of the predicted word\n",
    "    \"\"\"\n",
    "    import random\n",
    "    rand = random.random()\n",
    "    \n",
    "    probas_runner = 0.0\n",
    "    for idx, proba in enumerate(probabilities):\n",
    "        probas_runner += proba\n",
    "        if rand < probas_runner:\n",
    "            return int_to_vocab[idx]\n",
    "            \n",
    "    assert False, \"Incorrect probability vector\"\n",
    "\n",
    "\n",
    "\"\"\"\n",
    "DON'T MODIFY ANYTHING IN THIS CELL THAT IS BELOW THIS LINE\n",
    "\"\"\"\n",
    "tests.test_pick_word(pick_word)"
   ]
  },
  {
   "cell_type": "markdown",
   "metadata": {
    "deletable": true,
    "editable": true
   },
   "source": [
    "## Generate TV Script\n",
    "This will generate the TV script for you.  Set `gen_length` to the length of TV script you want to generate."
   ]
  },
  {
   "cell_type": "code",
   "execution_count": 21,
   "metadata": {
    "collapsed": false,
    "deletable": true,
    "editable": true
   },
   "outputs": [
    {
     "name": "stdout",
     "output_type": "stream",
     "text": [
      "moe_szyslak: if anything we really have something that's been ironed get back.(from tv) i saw you and a time to a lot of his money. there are plenty of this guy.\n",
      "moe_szyslak:(sad, sincere) yeah, last have?\n",
      "homer_simpson: uh, you can't... the president says iran has gotten any results. but they ain't even bothered to learn themselves the language. well, i'll take that punk someday, moe.\n",
      "moe_szyslak: he seems fine. there is a right to make that leak disappear-- put it.(sobs)\n",
      "\n",
      "\n",
      "homer_simpson: no, i'm so sorry. but i'll just get my hands on a date.\"\n",
      "lenny_leonard: sure is, mr. burns hated humanity.\n",
      "moe_szyslak: sorry, moe.\n",
      "chief_wiggum: well if anything we even videotaped it here? they're not covering the issues, they just want a daddy and find out the truth every job?\n",
      "lenny_leonard: does it!\n",
      "moe_szyslak: yeah. how'd you know the chinese were spyin' on ya?\n",
      "kemi: i read.\n",
      "moe_szyslak: i'll take that a secret to our graves. i'm talkin' about... how did i feel good.\n",
      "gary_chalmers:(kindly) you're the best thing i got without in this joint.\n",
      "homer_simpson: thanks, moe. how did i feel like changing that president!\n",
      "\n",
      "\n",
      "homer_simpson: guys, you can say a man we can just...\n",
      "lenny_leonard: yeah, i knew you'd be back the inside.\n",
      "moe_szyslak:(nods) so good. good. hey, i've got two nickels to rub together and it's groveling so uh, i gotta warn..\n",
      "marge_simpson: maybe i should you see what makes me want to i... uh...\"(pants) watashi up, i can i pay with my came.\n",
      "homer_simpson: you sure do, i could whup you would guys. no one were this year is for me and an world.\n",
      "homer_simpson: not a dead. this valentine's crap has to be a\" finding nemo\" old and have that right, now that my\n"
     ]
    }
   ],
   "source": [
    "gen_length = 400\n",
    "# homer_simpson, moe_szyslak, or Barney_Gumble\n",
    "prime_word = 'moe_szyslak'\n",
    "\n",
    "\"\"\"\n",
    "DON'T MODIFY ANYTHING IN THIS CELL THAT IS BELOW THIS LINE\n",
    "\"\"\"\n",
    "loaded_graph = tf.Graph()\n",
    "with tf.Session(graph=loaded_graph) as sess:\n",
    "    # Load saved model\n",
    "    loader = tf.train.import_meta_graph(load_dir + '.meta')\n",
    "    loader.restore(sess, load_dir)\n",
    "\n",
    "    # Get Tensors from loaded model\n",
    "    input_text, initial_state, final_state, probs = get_tensors(loaded_graph)\n",
    "\n",
    "    # Sentences generation setup\n",
    "    gen_sentences = [prime_word + ':']\n",
    "    prev_state = sess.run(initial_state, {input_text: np.array([[1]])})\n",
    "\n",
    "    # Generate sentences\n",
    "    for n in range(gen_length):\n",
    "        # Dynamic Input\n",
    "        dyn_input = [[vocab_to_int[word] for word in gen_sentences[-seq_length:]]]\n",
    "        dyn_seq_length = len(dyn_input[0])\n",
    "\n",
    "        # Get Prediction\n",
    "        probabilities, prev_state = sess.run(\n",
    "            [probs, final_state],\n",
    "            {input_text: dyn_input, initial_state: prev_state})\n",
    "        \n",
    "        pred_word = pick_word(probabilities[dyn_seq_length-1], int_to_vocab)\n",
    "\n",
    "        gen_sentences.append(pred_word)\n",
    "    \n",
    "    # Remove tokens\n",
    "    tv_script = ' '.join(gen_sentences)\n",
    "    for key, token in token_dict.items():\n",
    "        ending = ' ' if key in ['\\n', '(', '\"'] else ''\n",
    "        tv_script = tv_script.replace(' ' + token.lower(), key)\n",
    "    tv_script = tv_script.replace('\\n ', '\\n')\n",
    "    tv_script = tv_script.replace('( ', '(')\n",
    "        \n",
    "    print(tv_script)"
   ]
  },
  {
   "cell_type": "markdown",
   "metadata": {
    "deletable": true,
    "editable": true
   },
   "source": [
    "# The TV Script is Nonsensical\n",
    "It's ok if the TV script doesn't make any sense.  We trained on less than a megabyte of text.  In order to get good results, you'll have to use a smaller vocabulary or get more data.  Luckly there's more data!  As we mentioned in the begging of this project, this is a subset of [another dataset](https://www.kaggle.com/wcukierski/the-simpsons-by-the-data).  We didn't have you train on all the data, because that would take too long.  However, you are free to train your neural network on all the data.  After you complete the project, of course.\n",
    "# Submitting This Project\n",
    "When submitting this project, make sure to run all the cells before saving the notebook. Save the notebook file as \"dlnd_tv_script_generation.ipynb\" and save it as a HTML file under \"File\" -> \"Download as\". Include the \"helper.py\" and \"problem_unittests.py\" files in your submission."
   ]
  }
 ],
 "metadata": {
  "kernelspec": {
   "display_name": "Python 3",
   "language": "python",
   "name": "python3"
  },
  "language_info": {
   "codemirror_mode": {
    "name": "ipython",
    "version": 3
   },
   "file_extension": ".py",
   "mimetype": "text/x-python",
   "name": "python",
   "nbconvert_exporter": "python",
   "pygments_lexer": "ipython3",
   "version": "3.6.0"
  }
 },
 "nbformat": 4,
 "nbformat_minor": 0
}
